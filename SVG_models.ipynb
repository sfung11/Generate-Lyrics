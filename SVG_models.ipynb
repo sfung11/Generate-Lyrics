{
 "cells": [
  {
   "cell_type": "markdown",
   "metadata": {},
   "source": [
    "### SVG visuals of NN architectures I experimented with."
   ]
  },
  {
   "cell_type": "code",
   "execution_count": 2,
   "metadata": {
    "collapsed": false
   },
   "outputs": [],
   "source": [
    "# Imports\n",
    "# Basics\n",
    "import sys\n",
    "from __future__ import print_function, division\n",
    "import pandas as pd \n",
    "import numpy as np\n",
    "import random\n",
    "from itertools import cycle\n",
    "# from matplotlib import pyplot as plt\n",
    "# %matplotlib inline\n",
    "\n",
    "# keras\n",
    "np.random.seed(13)\n",
    "from keras.models import Sequential\n",
    "from keras.layers import Dense, Embedding, Reshape, Activation, LSTM, Dropout, Bidirectional\n",
    "from IPython.display import SVG\n",
    "from keras.utils import np_utils\n",
    "from keras.utils.np_utils import to_categorical\n",
    "from keras.preprocessing.text import Tokenizer\n",
    "from keras.preprocessing import sequence\n",
    "from keras.optimizers import SGD, RMSprop, Nadam\n",
    "from keras.utils.vis_utils import model_to_dot\n",
    "from keras.utils import plot_model"
   ]
  },
  {
   "cell_type": "markdown",
   "metadata": {},
   "source": [
    "### some files to play with "
   ]
  },
  {
   "cell_type": "code",
   "execution_count": 3,
   "metadata": {
    "collapsed": true
   },
   "outputs": [],
   "source": [
    "# Each txt file represents one song. Open each file and tokenize.\n",
    "files = !ls /filepath/the_biebs"
   ]
  },
  {
   "cell_type": "code",
   "execution_count": 4,
   "metadata": {
    "collapsed": false
   },
   "outputs": [],
   "source": [
    "# separate the puncuation to be treated as unique \"words\" as they will not be removed at tokenizer step\n",
    "punc = '!\"#$%&()*+,-./:;<=>?@[\\\\]^_`{|}~\\t\\n\\''\n",
    "# EOS = '__fin___'\n",
    "texts = []\n",
    "for file in files:\n",
    "    text = open('/filepath/the_biebs/' + file).read().lower()\n",
    "    for p in punc:\n",
    "        if p in text:\n",
    "            text = text.replace(p, ' ' + p + ' ')\n",
    "    texts.append(text)"
   ]
  },
  {
   "cell_type": "code",
   "execution_count": 5,
   "metadata": {
    "collapsed": true
   },
   "outputs": [],
   "source": [
    "# Tokenize. Output from fit_on_texts is a list of lists.\n",
    "tokenizer = Tokenizer(filters='')\n",
    "tokenizer.fit_on_texts(texts) "
   ]
  },
  {
   "cell_type": "code",
   "execution_count": 6,
   "metadata": {
    "collapsed": true
   },
   "outputs": [],
   "source": [
    "vocab_indices = tokenizer.word_index\n",
    "indices_vocab = dict((i, v) for v, i in vocab_indices.items())\n",
    "vocabsize = len(tokenizer.word_index) + 1 # need this bc word_index starts at 1\n",
    "maxlen = 10\n",
    "step = 1"
   ]
  },
  {
   "cell_type": "markdown",
   "metadata": {},
   "source": [
    "### Straightforward, single layer LSTM."
   ]
  },
  {
   "cell_type": "code",
   "execution_count": null,
   "metadata": {
    "collapsed": false
   },
   "outputs": [],
   "source": [
    "model = Sequential()\n",
    "# The Embedding layer allows us to map words into dense vectors as inputs.\n",
    "model.add(Embedding(vocabsize, 100, input_length=maxlen, name='Seqs_to_Dense_Vectors'))\n",
    "model.add(LSTM(128, name='Network_Training'))\n",
    "model.add(Dense(vocabsize, name='Next_Layer'))\n",
    "model.add(Activation('softmax', name='Predicted_Output'))\n",
    "\n",
    "optimizer = RMSprop(lr=0.01)\n",
    "model.compile(loss='categorical_crossentropy', optimizer=optimizer)"
   ]
  },
  {
   "cell_type": "code",
   "execution_count": null,
   "metadata": {
    "collapsed": false
   },
   "outputs": [],
   "source": [
    "SVG(model_to_dot(model, show_shapes=True).create(prog='dot', format='svg'))\n",
    "plot_model(model, to_file='model.png')"
   ]
  },
  {
   "cell_type": "markdown",
   "metadata": {},
   "source": [
    "### Deep Learning model. Not enough data to support this structure. Bidirectional wrapper good idea as memory for past and future inputs. Could have looked into adding dropout layers before dense layers, but would not have overcome amount of data issue."
   ]
  },
  {
   "cell_type": "code",
   "execution_count": 9,
   "metadata": {
    "collapsed": false
   },
   "outputs": [],
   "source": [
    "# more complex model\n",
    "sf_model = Sequential()\n",
    "sf_model.add(Embedding(vocabsize, 100, input_length=maxlen, name='Seqs_to_Dense_Vectors'))\n",
    "sf_model.add(Bidirectional(LSTM(64, return_sequences=True, name='Memory_1a'), name='BD_1'))\n",
    "sf_model.add(Dense(vocabsize, name='Fully_Connected_1b'))\n",
    "\n",
    "sf_model.add(Bidirectional(LSTM(128, return_sequences=True, name='Memory_2a'), name='BD_2'))\n",
    "sf_model.add(Dense(vocabsize, name='Fully_Connected_2b'))\n",
    "\n",
    "sf_model.add(Bidirectional(LSTM(64, return_sequences=False, name='Memory_3a'), name='BD_3'))\n",
    "sf_model.add(Dense(vocabsize, name='Fully_Connected_3b'))\n",
    "sf_model.add(Activation('softmax', name='Predicted_Output'))\n",
    "\n",
    "optimizer = RMSprop(lr=0.01)\n",
    "sf_model.compile(loss='categorical_crossentropy', optimizer=optimizer)\n",
    "\n",
    "SVG(model_to_dot(sf_model, show_shapes=True).create(prog='dot', format='svg'))\n",
    "plot_model(sf_model, to_file='DLmodel.png')"
   ]
  },
  {
   "cell_type": "markdown",
   "metadata": {},
   "source": [
    "### Final model. Fewer hidden layers, dropout added to prevent overfitting, played around with different optimizers."
   ]
  },
  {
   "cell_type": "code",
   "execution_count": 7,
   "metadata": {
    "collapsed": false
   },
   "outputs": [
    {
     "data": {
      "image/svg+xml": [
       "<svg height=\"458pt\" viewBox=\"0.00 0.00 396.99 458.00\" width=\"397pt\" xmlns=\"http://www.w3.org/2000/svg\" xmlns:xlink=\"http://www.w3.org/1999/xlink\">\n",
       "<g class=\"graph\" id=\"graph0\" transform=\"scale(1 1) rotate(0) translate(4 454)\">\n",
       "<title>G</title>\n",
       "<polygon fill=\"#ffffff\" points=\"-4,4 -4,-454 392.9902,-454 392.9902,4 -4,4\" stroke=\"transparent\"/>\n",
       "<!-- 4829652360 -->\n",
       "<g class=\"node\" id=\"node1\">\n",
       "<title>4829652360</title>\n",
       "<polygon fill=\"none\" points=\"0,-405.5 0,-449.5 388.9902,-449.5 388.9902,-405.5 0,-405.5\" stroke=\"#000000\"/>\n",
       "<text fill=\"#000000\" font-family=\"Times,serif\" font-size=\"14.00\" text-anchor=\"middle\" x=\"128.3364\" y=\"-423.3\">Seqs_to_Dense_Vectors_input: InputLayer</text>\n",
       "<polyline fill=\"none\" points=\"256.6729,-405.5 256.6729,-449.5 \" stroke=\"#000000\"/>\n",
       "<text fill=\"#000000\" font-family=\"Times,serif\" font-size=\"14.00\" text-anchor=\"middle\" x=\"284.5073\" y=\"-434.3\">input:</text>\n",
       "<polyline fill=\"none\" points=\"256.6729,-427.5 312.3418,-427.5 \" stroke=\"#000000\"/>\n",
       "<text fill=\"#000000\" font-family=\"Times,serif\" font-size=\"14.00\" text-anchor=\"middle\" x=\"284.5073\" y=\"-412.3\">output:</text>\n",
       "<polyline fill=\"none\" points=\"312.3418,-405.5 312.3418,-449.5 \" stroke=\"#000000\"/>\n",
       "<text fill=\"#000000\" font-family=\"Times,serif\" font-size=\"14.00\" text-anchor=\"middle\" x=\"350.666\" y=\"-434.3\">(None, 10)</text>\n",
       "<polyline fill=\"none\" points=\"312.3418,-427.5 388.9902,-427.5 \" stroke=\"#000000\"/>\n",
       "<text fill=\"#000000\" font-family=\"Times,serif\" font-size=\"14.00\" text-anchor=\"middle\" x=\"350.666\" y=\"-412.3\">(None, 10)</text>\n",
       "</g>\n",
       "<!-- 4829652024 -->\n",
       "<g class=\"node\" id=\"node2\">\n",
       "<title>4829652024</title>\n",
       "<polygon fill=\"none\" points=\"2.7139,-324.5 2.7139,-368.5 386.2764,-368.5 386.2764,-324.5 2.7139,-324.5\" stroke=\"#000000\"/>\n",
       "<text fill=\"#000000\" font-family=\"Times,serif\" font-size=\"14.00\" text-anchor=\"middle\" x=\"114.3364\" y=\"-342.3\">Seqs_to_Dense_Vectors: Embedding</text>\n",
       "<polyline fill=\"none\" points=\"225.959,-324.5 225.959,-368.5 \" stroke=\"#000000\"/>\n",
       "<text fill=\"#000000\" font-family=\"Times,serif\" font-size=\"14.00\" text-anchor=\"middle\" x=\"253.7935\" y=\"-353.3\">input:</text>\n",
       "<polyline fill=\"none\" points=\"225.959,-346.5 281.6279,-346.5 \" stroke=\"#000000\"/>\n",
       "<text fill=\"#000000\" font-family=\"Times,serif\" font-size=\"14.00\" text-anchor=\"middle\" x=\"253.7935\" y=\"-331.3\">output:</text>\n",
       "<polyline fill=\"none\" points=\"281.6279,-324.5 281.6279,-368.5 \" stroke=\"#000000\"/>\n",
       "<text fill=\"#000000\" font-family=\"Times,serif\" font-size=\"14.00\" text-anchor=\"middle\" x=\"333.9521\" y=\"-353.3\">(None, 10)</text>\n",
       "<polyline fill=\"none\" points=\"281.6279,-346.5 386.2764,-346.5 \" stroke=\"#000000\"/>\n",
       "<text fill=\"#000000\" font-family=\"Times,serif\" font-size=\"14.00\" text-anchor=\"middle\" x=\"333.9521\" y=\"-331.3\">(None, 10, 100)</text>\n",
       "</g>\n",
       "<!-- 4829652360&#45;&gt;4829652024 -->\n",
       "<g class=\"edge\" id=\"edge1\">\n",
       "<title>4829652360-&gt;4829652024</title>\n",
       "<path d=\"M194.4951,-405.3664C194.4951,-397.1516 194.4951,-387.6579 194.4951,-378.7252\" fill=\"none\" stroke=\"#000000\"/>\n",
       "<polygon fill=\"#000000\" points=\"197.9952,-378.6068 194.4951,-368.6068 190.9952,-378.6069 197.9952,-378.6068\" stroke=\"#000000\"/>\n",
       "</g>\n",
       "<!-- 4829692760 -->\n",
       "<g class=\"node\" id=\"node3\">\n",
       "<title>4829692760</title>\n",
       "<polygon fill=\"none\" points=\"4.2725,-243.5 4.2725,-287.5 384.7178,-287.5 384.7178,-243.5 4.2725,-243.5\" stroke=\"#000000\"/>\n",
       "<text fill=\"#000000\" font-family=\"Times,serif\" font-size=\"14.00\" text-anchor=\"middle\" x=\"114.3364\" y=\"-261.3\">BD(Memory): Bidirectional(LSTM)</text>\n",
       "<polyline fill=\"none\" points=\"224.4004,-243.5 224.4004,-287.5 \" stroke=\"#000000\"/>\n",
       "<text fill=\"#000000\" font-family=\"Times,serif\" font-size=\"14.00\" text-anchor=\"middle\" x=\"252.2349\" y=\"-272.3\">input:</text>\n",
       "<polyline fill=\"none\" points=\"224.4004,-265.5 280.0693,-265.5 \" stroke=\"#000000\"/>\n",
       "<text fill=\"#000000\" font-family=\"Times,serif\" font-size=\"14.00\" text-anchor=\"middle\" x=\"252.2349\" y=\"-250.3\">output:</text>\n",
       "<polyline fill=\"none\" points=\"280.0693,-243.5 280.0693,-287.5 \" stroke=\"#000000\"/>\n",
       "<text fill=\"#000000\" font-family=\"Times,serif\" font-size=\"14.00\" text-anchor=\"middle\" x=\"332.3936\" y=\"-272.3\">(None, 10, 100)</text>\n",
       "<polyline fill=\"none\" points=\"280.0693,-265.5 384.7178,-265.5 \" stroke=\"#000000\"/>\n",
       "<text fill=\"#000000\" font-family=\"Times,serif\" font-size=\"14.00\" text-anchor=\"middle\" x=\"332.3936\" y=\"-250.3\">(None, 256)</text>\n",
       "</g>\n",
       "<!-- 4829652024&#45;&gt;4829692760 -->\n",
       "<g class=\"edge\" id=\"edge2\">\n",
       "<title>4829652024-&gt;4829692760</title>\n",
       "<path d=\"M194.4951,-324.3664C194.4951,-316.1516 194.4951,-306.6579 194.4951,-297.7252\" fill=\"none\" stroke=\"#000000\"/>\n",
       "<polygon fill=\"#000000\" points=\"197.9952,-297.6068 194.4951,-287.6068 190.9952,-297.6069 197.9952,-297.6068\" stroke=\"#000000\"/>\n",
       "</g>\n",
       "<!-- 4829653424 -->\n",
       "<g class=\"node\" id=\"node4\">\n",
       "<title>4829653424</title>\n",
       "<polygon fill=\"none\" points=\"45.0967,-162.5 45.0967,-206.5 343.8936,-206.5 343.8936,-162.5 45.0967,-162.5\" stroke=\"#000000\"/>\n",
       "<text fill=\"#000000\" font-family=\"Times,serif\" font-size=\"14.00\" text-anchor=\"middle\" x=\"124.8364\" y=\"-180.3\">Prevent_Overfit: Dropout</text>\n",
       "<polyline fill=\"none\" points=\"204.5762,-162.5 204.5762,-206.5 \" stroke=\"#000000\"/>\n",
       "<text fill=\"#000000\" font-family=\"Times,serif\" font-size=\"14.00\" text-anchor=\"middle\" x=\"232.4106\" y=\"-191.3\">input:</text>\n",
       "<polyline fill=\"none\" points=\"204.5762,-184.5 260.2451,-184.5 \" stroke=\"#000000\"/>\n",
       "<text fill=\"#000000\" font-family=\"Times,serif\" font-size=\"14.00\" text-anchor=\"middle\" x=\"232.4106\" y=\"-169.3\">output:</text>\n",
       "<polyline fill=\"none\" points=\"260.2451,-162.5 260.2451,-206.5 \" stroke=\"#000000\"/>\n",
       "<text fill=\"#000000\" font-family=\"Times,serif\" font-size=\"14.00\" text-anchor=\"middle\" x=\"302.0693\" y=\"-191.3\">(None, 256)</text>\n",
       "<polyline fill=\"none\" points=\"260.2451,-184.5 343.8936,-184.5 \" stroke=\"#000000\"/>\n",
       "<text fill=\"#000000\" font-family=\"Times,serif\" font-size=\"14.00\" text-anchor=\"middle\" x=\"302.0693\" y=\"-169.3\">(None, 256)</text>\n",
       "</g>\n",
       "<!-- 4829692760&#45;&gt;4829653424 -->\n",
       "<g class=\"edge\" id=\"edge3\">\n",
       "<title>4829692760-&gt;4829653424</title>\n",
       "<path d=\"M194.4951,-243.3664C194.4951,-235.1516 194.4951,-225.6579 194.4951,-216.7252\" fill=\"none\" stroke=\"#000000\"/>\n",
       "<polygon fill=\"#000000\" points=\"197.9952,-216.6068 194.4951,-206.6068 190.9952,-216.6069 197.9952,-216.6068\" stroke=\"#000000\"/>\n",
       "</g>\n",
       "<!-- 4829537728 -->\n",
       "<g class=\"node\" id=\"node5\">\n",
       "<title>4829537728</title>\n",
       "<polygon fill=\"none\" points=\"43.9312,-81.5 43.9312,-125.5 345.0591,-125.5 345.0591,-81.5 43.9312,-81.5\" stroke=\"#000000\"/>\n",
       "<text fill=\"#000000\" font-family=\"Times,serif\" font-size=\"14.00\" text-anchor=\"middle\" x=\"121.3364\" y=\"-99.3\">Fully_Connected: Dense</text>\n",
       "<polyline fill=\"none\" points=\"198.7417,-81.5 198.7417,-125.5 \" stroke=\"#000000\"/>\n",
       "<text fill=\"#000000\" font-family=\"Times,serif\" font-size=\"14.00\" text-anchor=\"middle\" x=\"226.5762\" y=\"-110.3\">input:</text>\n",
       "<polyline fill=\"none\" points=\"198.7417,-103.5 254.4106,-103.5 \" stroke=\"#000000\"/>\n",
       "<text fill=\"#000000\" font-family=\"Times,serif\" font-size=\"14.00\" text-anchor=\"middle\" x=\"226.5762\" y=\"-88.3\">output:</text>\n",
       "<polyline fill=\"none\" points=\"254.4106,-81.5 254.4106,-125.5 \" stroke=\"#000000\"/>\n",
       "<text fill=\"#000000\" font-family=\"Times,serif\" font-size=\"14.00\" text-anchor=\"middle\" x=\"299.7349\" y=\"-110.3\">(None, 256)</text>\n",
       "<polyline fill=\"none\" points=\"254.4106,-103.5 345.0591,-103.5 \" stroke=\"#000000\"/>\n",
       "<text fill=\"#000000\" font-family=\"Times,serif\" font-size=\"14.00\" text-anchor=\"middle\" x=\"299.7349\" y=\"-88.3\">(None, 2202)</text>\n",
       "</g>\n",
       "<!-- 4829653424&#45;&gt;4829537728 -->\n",
       "<g class=\"edge\" id=\"edge4\">\n",
       "<title>4829653424-&gt;4829537728</title>\n",
       "<path d=\"M194.4951,-162.3664C194.4951,-154.1516 194.4951,-144.6579 194.4951,-135.7252\" fill=\"none\" stroke=\"#000000\"/>\n",
       "<polygon fill=\"#000000\" points=\"197.9952,-135.6068 194.4951,-125.6068 190.9952,-135.6069 197.9952,-135.6068\" stroke=\"#000000\"/>\n",
       "</g>\n",
       "<!-- 4829537616 -->\n",
       "<g class=\"node\" id=\"node6\">\n",
       "<title>4829537616</title>\n",
       "<polygon fill=\"none\" points=\"31.0967,-.5 31.0967,-44.5 357.8936,-44.5 357.8936,-.5 31.0967,-.5\" stroke=\"#000000\"/>\n",
       "<text fill=\"#000000\" font-family=\"Times,serif\" font-size=\"14.00\" text-anchor=\"middle\" x=\"121.3364\" y=\"-18.3\">Predicted_Output: Activation</text>\n",
       "<polyline fill=\"none\" points=\"211.5762,-.5 211.5762,-44.5 \" stroke=\"#000000\"/>\n",
       "<text fill=\"#000000\" font-family=\"Times,serif\" font-size=\"14.00\" text-anchor=\"middle\" x=\"239.4106\" y=\"-29.3\">input:</text>\n",
       "<polyline fill=\"none\" points=\"211.5762,-22.5 267.2451,-22.5 \" stroke=\"#000000\"/>\n",
       "<text fill=\"#000000\" font-family=\"Times,serif\" font-size=\"14.00\" text-anchor=\"middle\" x=\"239.4106\" y=\"-7.3\">output:</text>\n",
       "<polyline fill=\"none\" points=\"267.2451,-.5 267.2451,-44.5 \" stroke=\"#000000\"/>\n",
       "<text fill=\"#000000\" font-family=\"Times,serif\" font-size=\"14.00\" text-anchor=\"middle\" x=\"312.5693\" y=\"-29.3\">(None, 2202)</text>\n",
       "<polyline fill=\"none\" points=\"267.2451,-22.5 357.8936,-22.5 \" stroke=\"#000000\"/>\n",
       "<text fill=\"#000000\" font-family=\"Times,serif\" font-size=\"14.00\" text-anchor=\"middle\" x=\"312.5693\" y=\"-7.3\">(None, 2202)</text>\n",
       "</g>\n",
       "<!-- 4829537728&#45;&gt;4829537616 -->\n",
       "<g class=\"edge\" id=\"edge5\">\n",
       "<title>4829537728-&gt;4829537616</title>\n",
       "<path d=\"M194.4951,-81.3664C194.4951,-73.1516 194.4951,-63.6579 194.4951,-54.7252\" fill=\"none\" stroke=\"#000000\"/>\n",
       "<polygon fill=\"#000000\" points=\"197.9952,-54.6068 194.4951,-44.6068 190.9952,-54.6069 197.9952,-54.6068\" stroke=\"#000000\"/>\n",
       "</g>\n",
       "</g>\n",
       "</svg>"
      ],
      "text/plain": [
       "<IPython.core.display.SVG object>"
      ]
     },
     "execution_count": 7,
     "metadata": {},
     "output_type": "execute_result"
    }
   ],
   "source": [
    "model2 = Sequential()\n",
    "model2.add(Embedding(vocabsize, 100, input_length=maxlen, name='Seqs_to_Dense_Vectors'))\n",
    "# Bidirectional LSTM!!!\n",
    "model2.add(Bidirectional(LSTM(128, name='Memory'), name='BD'))\n",
    "model2.add(Dropout(0.3, name='Prevent_Overfit'))\n",
    "model2.add(Dense(vocabsize, name='Fully_Connected'))\n",
    "model2.add(Activation('softmax', name='Predicted_Output'))\n",
    "\n",
    "# try using different optimizers and different optimizer configs\n",
    "optimizer = Nadam(lr=0.002)\n",
    "model2.compile(loss= 'categorical_crossentropy', optimizer=optimizer)\n",
    "SVG(model_to_dot(model2, show_shapes=True).create(prog='dot', format='svg'))"
   ]
  },
  {
   "cell_type": "code",
   "execution_count": 8,
   "metadata": {
    "collapsed": true
   },
   "outputs": [],
   "source": [
    "plot_model(model2, to_file='Bidirectional.png')"
   ]
  },
  {
   "cell_type": "code",
   "execution_count": null,
   "metadata": {
    "collapsed": true
   },
   "outputs": [],
   "source": []
  }
 ],
 "metadata": {
  "kernelspec": {
   "display_name": "Python 3",
   "language": "python",
   "name": "python3"
  },
  "language_info": {
   "codemirror_mode": {
    "name": "ipython",
    "version": 3
   },
   "file_extension": ".py",
   "mimetype": "text/x-python",
   "name": "python",
   "nbconvert_exporter": "python",
   "pygments_lexer": "ipython3",
   "version": "3.6.0"
  }
 },
 "nbformat": 4,
 "nbformat_minor": 2
}
